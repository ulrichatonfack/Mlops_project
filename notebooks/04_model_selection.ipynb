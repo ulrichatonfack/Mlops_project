{
 "cells": [
  {
   "cell_type": "code",
   "execution_count": 1,
   "id": "491522a1",
   "metadata": {},
   "outputs": [],
   "source": [
    "import pandas as pd\n",
    "import numpy as np\n",
    "from sklearn.model_selection import KFold, cross_val_score\n",
    "from sklearn.linear_model import LinearRegression, Ridge, Lasso\n",
    "from sklearn.ensemble import RandomForestRegressor\n",
    "from sklearn.metrics import make_scorer, mean_squared_error, mean_absolute_error, r2_score\n",
    "from sklearn.pipeline import Pipeline\n",
    "from sklearn.preprocessing import StandardScaler\n",
    "import joblib"
   ]
  },
  {
   "cell_type": "code",
   "execution_count": 2,
   "id": "57b61446",
   "metadata": {},
   "outputs": [],
   "source": [
    "#Charger les données\n",
    "X_train = pd.read_csv(\"../data/processed/X_train.csv\")\n",
    "y_train = pd.read_csv(\"../data/processed/y_train.csv\").values.ravel()"
   ]
  },
  {
   "cell_type": "markdown",
   "id": "d414976e",
   "metadata": {},
   "source": [
    "### Test sur la regression lineaire, Ridge, Lasso et Random forest"
   ]
  },
  {
   "cell_type": "code",
   "execution_count": 3,
   "id": "3a598087",
   "metadata": {},
   "outputs": [],
   "source": [
    "#Définir les modèles\n",
    "models = {\n",
    "    \"Linear Regression\": Pipeline([\n",
    "        (\"scaler\", StandardScaler()), \n",
    "        (\"model\", LinearRegression())\n",
    "    ]),\n",
    "    \"Ridge\": Pipeline([\n",
    "        (\"scaler\", StandardScaler()), \n",
    "        (\"model\", Ridge(alpha=10))\n",
    "    ]),\n",
    "    \"Lasso\": Pipeline([\n",
    "        (\"scaler\", StandardScaler()), \n",
    "        (\"model\", Lasso(alpha=0.01))\n",
    "    ]),\n",
    "    \"Random Forest\": RandomForestRegressor(n_estimators=200, random_state=42)\n",
    "}"
   ]
  },
  {
   "cell_type": "code",
   "execution_count": 4,
   "id": "c1d84c9a",
   "metadata": {},
   "outputs": [],
   "source": [
    "#Définir la validation croisée\n",
    "kf = KFold(n_splits=5, shuffle=True, random_state=42)"
   ]
  },
  {
   "cell_type": "code",
   "execution_count": 5,
   "id": "b9db8b6d",
   "metadata": {},
   "outputs": [],
   "source": [
    "#Fonction pour évaluer les modèles\n",
    "def evaluate_model(model, X, y):\n",
    "    r2 = cross_val_score(model, X, y, cv=kf, scoring=\"r2\")\n",
    "    rmse = -cross_val_score(model, X, y, cv=kf, scoring=\"neg_root_mean_squared_error\")\n",
    "    mae = -cross_val_score(model, X, y, cv=kf, scoring=\"neg_mean_absolute_error\")\n",
    "    \n",
    "    return {\n",
    "        \"R2_mean\": r2.mean(), \"R2_std\": r2.std(),\n",
    "        \"RMSE_mean\": rmse.mean(), \"RMSE_std\": rmse.std(),\n",
    "        \"MAE_mean\": mae.mean(), \"MAE_std\": mae.std()\n",
    "    }"
   ]
  },
  {
   "cell_type": "code",
   "execution_count": 6,
   "id": "47d9897d",
   "metadata": {},
   "outputs": [
    {
     "name": "stdout",
     "output_type": "stream",
     "text": [
      "🔹 Entraînement : Linear Regression\n",
      "🔹 Entraînement : Ridge\n",
      "🔹 Entraînement : Lasso\n",
      "🔹 Entraînement : Random Forest\n"
     ]
    }
   ],
   "source": [
    "#Évaluer tous les modèles\n",
    "results = {}\n",
    "for name, model in models.items():\n",
    "    print(f\"🔹 Entraînement : {name}\")\n",
    "    results[name] = evaluate_model(model, X_train, y_train)"
   ]
  },
  {
   "cell_type": "code",
   "execution_count": 7,
   "id": "6c4c4623",
   "metadata": {},
   "outputs": [
    {
     "name": "stdout",
     "output_type": "stream",
     "text": [
      "\n",
      "📊 Résultats Cross-Validation (5-folds) :\n",
      "\n",
      "                    R2_mean    R2_std      RMSE_mean       RMSE_std  \\\n",
      "Ridge              0.510863  0.169782  291404.317979  106640.062685   \n",
      "Lasso              0.510607  0.169972  291436.597195  106594.381618   \n",
      "Linear Regression  0.510607  0.169972  291436.597502  106594.381070   \n",
      "Random Forest      0.427884  0.165840  314236.284497  101799.074947   \n",
      "\n",
      "                        MAE_mean       MAE_std  \n",
      "Ridge              133837.432481   7592.989273  \n",
      "Lasso              134009.451230   7557.639364  \n",
      "Linear Regression  134009.455117   7557.640455  \n",
      "Random Forest      126458.003588  10358.117145  \n"
     ]
    }
   ],
   "source": [
    "#Résultats dans un DataFrame\n",
    "results_df = pd.DataFrame(results).T\n",
    "results_df = results_df.sort_values(by=\"R2_mean\", ascending=False)\n",
    "\n",
    "print(\"\\n📊 Résultats Cross-Validation (5-folds) :\\n\")\n",
    "print(results_df)\n"
   ]
  },
  {
   "cell_type": "code",
   "execution_count": 8,
   "id": "67a8b3ba",
   "metadata": {},
   "outputs": [
    {
     "name": "stdout",
     "output_type": "stream",
     "text": [
      "\n",
      "✅ Résultats sauvegardés dans ../data/processed/model_selection_results.csv\n"
     ]
    },
    {
     "data": {
      "text/html": [
       "<div>\n",
       "<style scoped>\n",
       "    .dataframe tbody tr th:only-of-type {\n",
       "        vertical-align: middle;\n",
       "    }\n",
       "\n",
       "    .dataframe tbody tr th {\n",
       "        vertical-align: top;\n",
       "    }\n",
       "\n",
       "    .dataframe thead th {\n",
       "        text-align: right;\n",
       "    }\n",
       "</style>\n",
       "<table border=\"1\" class=\"dataframe\">\n",
       "  <thead>\n",
       "    <tr style=\"text-align: right;\">\n",
       "      <th></th>\n",
       "      <th>R2_mean</th>\n",
       "      <th>R2_std</th>\n",
       "      <th>RMSE_mean</th>\n",
       "      <th>RMSE_std</th>\n",
       "      <th>MAE_mean</th>\n",
       "      <th>MAE_std</th>\n",
       "    </tr>\n",
       "  </thead>\n",
       "  <tbody>\n",
       "    <tr>\n",
       "      <th>Ridge</th>\n",
       "      <td>0.510863</td>\n",
       "      <td>0.169782</td>\n",
       "      <td>291404.317979</td>\n",
       "      <td>106640.062685</td>\n",
       "      <td>133837.432481</td>\n",
       "      <td>7592.989273</td>\n",
       "    </tr>\n",
       "    <tr>\n",
       "      <th>Lasso</th>\n",
       "      <td>0.510607</td>\n",
       "      <td>0.169972</td>\n",
       "      <td>291436.597195</td>\n",
       "      <td>106594.381618</td>\n",
       "      <td>134009.451230</td>\n",
       "      <td>7557.639364</td>\n",
       "    </tr>\n",
       "    <tr>\n",
       "      <th>Linear Regression</th>\n",
       "      <td>0.510607</td>\n",
       "      <td>0.169972</td>\n",
       "      <td>291436.597502</td>\n",
       "      <td>106594.381070</td>\n",
       "      <td>134009.455117</td>\n",
       "      <td>7557.640455</td>\n",
       "    </tr>\n",
       "    <tr>\n",
       "      <th>Random Forest</th>\n",
       "      <td>0.427884</td>\n",
       "      <td>0.165840</td>\n",
       "      <td>314236.284497</td>\n",
       "      <td>101799.074947</td>\n",
       "      <td>126458.003588</td>\n",
       "      <td>10358.117145</td>\n",
       "    </tr>\n",
       "  </tbody>\n",
       "</table>\n",
       "</div>"
      ],
      "text/plain": [
       "                    R2_mean    R2_std      RMSE_mean       RMSE_std  \\\n",
       "Ridge              0.510863  0.169782  291404.317979  106640.062685   \n",
       "Lasso              0.510607  0.169972  291436.597195  106594.381618   \n",
       "Linear Regression  0.510607  0.169972  291436.597502  106594.381070   \n",
       "Random Forest      0.427884  0.165840  314236.284497  101799.074947   \n",
       "\n",
       "                        MAE_mean       MAE_std  \n",
       "Ridge              133837.432481   7592.989273  \n",
       "Lasso              134009.451230   7557.639364  \n",
       "Linear Regression  134009.455117   7557.640455  \n",
       "Random Forest      126458.003588  10358.117145  "
      ]
     },
     "execution_count": 8,
     "metadata": {},
     "output_type": "execute_result"
    }
   ],
   "source": [
    "#Sauvegarder les résultats\n",
    "results_df.to_csv(\"../data/processed/model_selection_results.csv\", index=True)\n",
    "print(\"\\n✅ Résultats sauvegardés dans ../data/processed/model_selection_results.csv\")\n",
    "\n",
    "\n",
    "results_df.head()"
   ]
  },
  {
   "cell_type": "code",
   "execution_count": null,
   "id": "48c7a846",
   "metadata": {},
   "outputs": [],
   "source": []
  }
 ],
 "metadata": {
  "kernelspec": {
   "display_name": "venv",
   "language": "python",
   "name": "python3"
  },
  "language_info": {
   "codemirror_mode": {
    "name": "ipython",
    "version": 3
   },
   "file_extension": ".py",
   "mimetype": "text/x-python",
   "name": "python",
   "nbconvert_exporter": "python",
   "pygments_lexer": "ipython3",
   "version": "3.12.7"
  }
 },
 "nbformat": 4,
 "nbformat_minor": 5
}
