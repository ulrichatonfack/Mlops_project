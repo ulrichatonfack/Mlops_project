{
 "cells": [
  {
   "cell_type": "code",
   "execution_count": 1,
   "id": "0ad4ab4f",
   "metadata": {},
   "outputs": [],
   "source": [
    "import pandas as pd\n",
    "import numpy as np\n",
    "from sklearn.model_selection import GridSearchCV\n",
    "from sklearn.linear_model import Ridge, Lasso, LinearRegression\n",
    "from sklearn.ensemble import RandomForestRegressor\n",
    "from sklearn.metrics import r2_score, mean_squared_error, mean_absolute_error\n",
    "import joblib"
   ]
  },
  {
   "cell_type": "code",
   "execution_count": 2,
   "id": "3fb819dc",
   "metadata": {},
   "outputs": [],
   "source": [
    "#Charger les données et le scaler\n",
    "X_train = pd.read_csv(\"../data/processed/X_train.csv\")\n",
    "X_test = pd.read_csv(\"../data/processed/X_test.csv\")\n",
    "y_train = pd.read_csv(\"../data/processed/y_train.csv\").values.ravel()\n",
    "y_test = pd.read_csv(\"../data/processed/y_test.csv\").values.ravel()\n",
    "scaler = joblib.load(\"../data/processed/scaler.pkl\")"
   ]
  },
  {
   "cell_type": "code",
   "execution_count": 3,
   "id": "1459e611",
   "metadata": {},
   "outputs": [],
   "source": [
    "#Définir les modèles et leurs grilles d'hyperparamètres\n",
    "param_grid = {\n",
    "    \"Linear Regression\": {},  # Pas d'hyperparamètres\n",
    "    \"Ridge\": {\"alpha\": [0.1, 1, 10, 50, 100]},\n",
    "    \"Lasso\": {\"alpha\": [0.001, 0.01, 0.1, 1, 10]},\n",
    "    \"Random Forest\": {\n",
    "        \"n_estimators\": [100, 200, 300],\n",
    "        \"max_depth\": [None, 10, 20],\n",
    "        \"min_samples_split\": [2, 5]\n",
    "    }\n",
    "}"
   ]
  },
  {
   "cell_type": "code",
   "execution_count": 4,
   "id": "313c7c7e",
   "metadata": {},
   "outputs": [],
   "source": [
    "models = {\n",
    "    \"Linear Regression\": LinearRegression(),\n",
    "    \"Ridge\": Ridge(),\n",
    "    \"Lasso\": Lasso(),\n",
    "    \"Random Forest\": RandomForestRegressor(random_state=42)\n",
    "}\n"
   ]
  },
  {
   "cell_type": "code",
   "execution_count": 5,
   "id": "a7a138b6",
   "metadata": {},
   "outputs": [
    {
     "name": "stdout",
     "output_type": "stream",
     "text": [
      "\n",
      "🔹 GridSearch pour Linear Regression ...\n"
     ]
    },
    {
     "name": "stderr",
     "output_type": "stream",
     "text": [
      "c:\\Users\\fred\\Desktop\\Master DSIA\\M2\\MLOPS\\TP\\house_price_prediction\\venv\\Lib\\site-packages\\sklearn\\metrics\\_regression.py:483: FutureWarning: 'squared' is deprecated in version 1.4 and will be removed in 1.6. To calculate the root mean squared error, use the function'root_mean_squared_error'.\n",
      "  warnings.warn(\n"
     ]
    },
    {
     "name": "stdout",
     "output_type": "stream",
     "text": [
      "\n",
      "🔹 GridSearch pour Ridge ...\n"
     ]
    },
    {
     "name": "stderr",
     "output_type": "stream",
     "text": [
      "c:\\Users\\fred\\Desktop\\Master DSIA\\M2\\MLOPS\\TP\\house_price_prediction\\venv\\Lib\\site-packages\\sklearn\\metrics\\_regression.py:483: FutureWarning: 'squared' is deprecated in version 1.4 and will be removed in 1.6. To calculate the root mean squared error, use the function'root_mean_squared_error'.\n",
      "  warnings.warn(\n",
      "c:\\Users\\fred\\Desktop\\Master DSIA\\M2\\MLOPS\\TP\\house_price_prediction\\venv\\Lib\\site-packages\\sklearn\\metrics\\_regression.py:483: FutureWarning: 'squared' is deprecated in version 1.4 and will be removed in 1.6. To calculate the root mean squared error, use the function'root_mean_squared_error'.\n",
      "  warnings.warn(\n"
     ]
    },
    {
     "name": "stdout",
     "output_type": "stream",
     "text": [
      "\n",
      "🔹 GridSearch pour Lasso ...\n",
      "\n",
      "🔹 GridSearch pour Random Forest ...\n"
     ]
    },
    {
     "name": "stderr",
     "output_type": "stream",
     "text": [
      "c:\\Users\\fred\\Desktop\\Master DSIA\\M2\\MLOPS\\TP\\house_price_prediction\\venv\\Lib\\site-packages\\sklearn\\metrics\\_regression.py:483: FutureWarning: 'squared' is deprecated in version 1.4 and will be removed in 1.6. To calculate the root mean squared error, use the function'root_mean_squared_error'.\n",
      "  warnings.warn(\n"
     ]
    }
   ],
   "source": [
    "#GridSearchCV sur chaque modèle\n",
    "\n",
    "results = {}\n",
    "\n",
    "for name, model in models.items():\n",
    "    print(f\"\\n🔹 GridSearch pour {name} ...\")\n",
    "    \n",
    "    grid = GridSearchCV(\n",
    "        model,\n",
    "        param_grid[name],\n",
    "        cv=5,\n",
    "        scoring=\"r2\",\n",
    "        n_jobs=-1\n",
    "    )\n",
    "    \n",
    "    grid.fit(X_train, y_train)\n",
    "    best_model = grid.best_estimator_\n",
    "    \n",
    "    # 📌 4️⃣ Évaluation sur le jeu de test\n",
    "    y_pred = best_model.predict(X_test)\n",
    "    \n",
    "    results[name] = {\n",
    "        \"Best Params\": grid.best_params_,\n",
    "        \"R2_test\": r2_score(y_test, y_pred),\n",
    "        \"RMSE_test\": mean_squared_error(y_test, y_pred, squared=False),\n",
    "        \"MAE_test\": mean_absolute_error(y_test, y_pred)\n",
    "    }\n",
    "    \n",
    "    #Sauvegarder le modèle\n",
    "    joblib.dump(best_model, f\"../models/{name.replace(' ', '_').lower()}_best.pkl\")"
   ]
  },
  {
   "cell_type": "code",
   "execution_count": 6,
   "id": "941998ef",
   "metadata": {},
   "outputs": [
    {
     "name": "stdout",
     "output_type": "stream",
     "text": [
      "\n",
      "📊 Résultats finaux sur le jeu de test :\n",
      "\n",
      "                                                         Best Params  \\\n",
      "Ridge                                                 {'alpha': 100}   \n",
      "Lasso                                                  {'alpha': 10}   \n",
      "Linear Regression                                                 {}   \n",
      "Random Forest      {'max_depth': None, 'min_samples_split': 5, 'n...   \n",
      "\n",
      "                    R2_test      RMSE_test       MAE_test  \n",
      "Ridge              0.072371  897650.975774   156387.68502  \n",
      "Lasso              0.071531  898057.137665    157737.1169  \n",
      "Linear Regression   0.07153  898057.596809  157741.677229  \n",
      "Random Forest      0.069757  898915.067088   147967.60848  \n",
      "\n",
      "✅ Modèles et résultats sauvegardés dans ../data/processed/\n"
     ]
    }
   ],
   "source": [
    "#Résumé des résultats\n",
    "results_df = pd.DataFrame(results).T\n",
    "results_df = results_df.sort_values(by=\"R2_test\", ascending=False)\n",
    "print(\"\\n📊 Résultats finaux sur le jeu de test :\\n\")\n",
    "print(results_df)\n",
    "\n",
    "results_df.to_csv(\"../data/processed/final_model_results.csv\", index=True)\n",
    "print(\"\\n✅ Modèles et résultats sauvegardés dans ../data/processed/\")"
   ]
  },
  {
   "cell_type": "code",
   "execution_count": null,
   "id": "4f69bc54",
   "metadata": {},
   "outputs": [],
   "source": []
  }
 ],
 "metadata": {
  "kernelspec": {
   "display_name": "venv",
   "language": "python",
   "name": "python3"
  },
  "language_info": {
   "codemirror_mode": {
    "name": "ipython",
    "version": 3
   },
   "file_extension": ".py",
   "mimetype": "text/x-python",
   "name": "python",
   "nbconvert_exporter": "python",
   "pygments_lexer": "ipython3",
   "version": "3.12.7"
  }
 },
 "nbformat": 4,
 "nbformat_minor": 5
}
